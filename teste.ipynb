{
 "cells": [
  {
   "cell_type": "markdown",
   "metadata": {},
   "source": [
    "## Propriedades da Probabilidade\n",
    "\n",
    "##### Significado dos Símbolos Usados em Probabilidade\n",
    "\n",
    "- **$P(A)$**: Probabilidade de um evento $A$ ocorrer.\n",
    "- **$P(\\overline{A})$ ou $P(A^c)$**: Probabilidade do Complemento do evento $A$, ou seja, a probabilidade de $A$ não ocorrer e todo resto ocorrer.\n",
    "- **$P(A^c)$**: Probabilidade do evento complementar de $A$ (o evento não ocorrer).\n",
    "- **$P(A \\cup B)$**: Probabilidade de $A$ ou $B$ ocorrer (união de dois eventos).\n",
    "- **$P(A \\cap B)$**: Probabilidade de $A$ e $B$ ocorrerem simultaneamente (interseção de dois eventos).\n",
    "- **$P(A|B)$**: Probabilidade condicional de $A$ ocorrer dado que $B$ ocorreu.\n",
    "- **$S$**: Espaço amostral, conjunto de todos os resultados possíveis de um experimento.\n",
    "- **$\\varnothing$**: Conjunto vazio, representa a ausência de qualquer resultado ou evento.\n",
    "- **$\\leq$**: Menor ou igual a.\n",
    "- **$\\geq$**: Maior ou igual a.\n",
    "- **$\\cup$**: União de dois eventos, significa que pelo menos um dos eventos ocorre.\n",
    "- **$\\cap$**: Interseção de dois eventos, significa que ambos os eventos ocorrem simultaneamente.\n",
    "- **$\\subseteq$**: Subconjunto, indica que um conjunto é parte de outro conjunto.\n",
    "- **$\\approx$**: Aproximadamente igual, usado quando o valor exato não é conhecido ou é uma aproximação.\n",
    "- **$P(S)$**: Probabilidade do espaço amostral, sempre igual a 1 (certeza de que algum evento ocorrerá).\n",
    "- **$P(B) > 0$**: Condição de probabilidade, significa que a probabilidade de $B$ deve ser maior que zero.\n",
    "\n",
    "\n",
    "### 1. **Propriedade de não negatividade**\n",
    "A probabilidade de um evento $A$ é sempre um número entre 0 e 1, ou seja:\n",
    "$0 \\leq P(A) \\leq 1$\n",
    "- $P(A) = 0$ significa que o evento é impossível.\n",
    "- $P(A) = 1$ significa que o evento é certo de ocorrer.\n",
    "\n",
    "### 2. **Propriedade da soma das probabilidades (probabilidade total)**\n",
    "Se considerarmos todos os resultados possíveis de um experimento (o espaço amostral \\( S \\)), a soma das probabilidades de todos esses resultados é 1:\n",
    "$P(S) = 1$\n",
    "\n",
    "### 3. **Probabilidade do evento complementar**\n",
    "Se $A$ é um evento, o complementar de $A$, denotado por $A^c$, é o evento em que $A$ não ocorre. A soma das probabilidades de um evento e de seu complementar é 1:\n",
    "$P(A^c) = 1 - P(A)$\n",
    "\n",
    "### 4. **Adição de probabilidades (eventos mutuamente exclusivos)**\n",
    "Se dois eventos $A$ e $B$ são mutuamente exclusivos, ou seja, não podem ocorrer ao mesmo tempo (não têm interseção), a probabilidade de $A$ ou $B$ ocorrer é a soma das probabilidades individuais:\n",
    "$P(A \\cup B) = P(A) + P(B) \\quad \\text{(se } A \\cap B = \\varnothing \\text{)}$\n",
    "\n",
    "### 5. **Multiplicação de probabilidades (eventos independentes)**\n",
    "Se dois eventos $A$ e $B$ são independentes, ou seja, a ocorrência de um não afeta a ocorrência do outro, a probabilidade de $A$ e $B$ ocorrerem simultaneamente é o produto de suas probabilidades individuais:\n",
    "$P(A \\cap B) = P(A) \\cdot P(B) \\quad \\text{(se } A \\text{ e } B \\text{ são independentes)}$\n",
    "\n",
    "### 6. **Teorema da probabilidade condicional**\n",
    "A probabilidade condicional de um evento $A$ dado que outro evento $B$ ocorreu é dada por:\n",
    "$P(A|B) = \\frac{P(A \\cap B)}{P(B)} \\quad \\text{(desde que } P(B) > 0\\text{)}$\n",
    "\n",
    "### 7. **Lei da adição (eventos não mutuamente exclusivos)**\n",
    "Para eventos $A$ e $B$ que podem ocorrer ao mesmo tempo, a probabilidade de $A$ ou $B$ ocorrer é:\n",
    "$P(A \\cup B) = P(A) + P(B) - P(A \\cap B)$\n"
   ]
  },
  {
   "cell_type": "code",
   "execution_count": 7,
   "metadata": {},
   "outputs": [
    {
     "name": "stdout",
     "output_type": "stream",
     "text": [
      "Propriedade de Não Negatividade:\n",
      "P(A) = 0.16666666666666666 (deve estar entre 0 e 1)\n",
      "\n"
     ]
    }
   ],
   "source": [
    "# Probabilidade de um evento A (lançar um dado e obter um 3)\n",
    "P_A = 1/6\n",
    "println(\"Propriedade de Não Negatividade:\")\n",
    "println(\"P(A) = $P_A (deve estar entre 0 e 1)\\n\")"
   ]
  },
  {
   "cell_type": "markdown",
   "metadata": {},
   "source": [
    ">###### Propriedade de Não Negatividade\n",
    "\n",
    "**Exemplo**: Se a probabilidade de um evento $A$ (como \"lançar um dado e obter um 3\") é \n",
    "$P(A) = \\frac{1}{6}$, isso está dentro do intervalo [0, 1].\n",
    "\n",
    "---"
   ]
  },
  {
   "cell_type": "code",
   "execution_count": 8,
   "metadata": {},
   "outputs": [
    {
     "name": "stdout",
     "output_type": "stream",
     "text": [
      "Probabilidade do Evento Complementar:\n",
      "P(A) = 0.3\n",
      "P(A') = 0.7 (probabilidade de não chover)\n",
      "\n"
     ]
    }
   ],
   "source": [
    "# Probabilidade do evento A (chover amanhã)\n",
    "P_A_chover = 0.3\n",
    "P_A_complementar = 1 - P_A_chover\n",
    "println(\"Probabilidade do Evento Complementar:\")\n",
    "println(\"P(A) = $P_A_chover\")\n",
    "println(\"P(A') = $P_A_complementar (probabilidade de não chover)\\n\")\n"
   ]
  },
  {
   "cell_type": "markdown",
   "metadata": {},
   "source": [
    ">###### Probabilidade do Evento Complementar\n",
    "\n",
    "**Exemplo**: Para um evento \"A\" que representa \"chover amanhã\", se \n",
    "$P(A) = 0.3$, então \n",
    "$P(A^c) = 1 - P(A) = 0.7$, representando a probabilidade de não chover.\n",
    "\n",
    "---"
   ]
  },
  {
   "cell_type": "code",
   "execution_count": 9,
   "metadata": {},
   "outputs": [
    {
     "name": "stdout",
     "output_type": "stream",
     "text": [
      "Adição de Probabilidades (Eventos Mutuamente Exclusivos):\n",
      "P(A) = 0.4, P(B) = 0.3\n",
      "P(A ∪ B) = 0.7 (soma das probabilidades)\n",
      "\n"
     ]
    }
   ],
   "source": [
    "# 3. Adição de Probabilidades (Eventos Mutuamente Exclusivos)\n",
    "\n",
    "# Probabilidades de obter uma carta de copas e uma carta de paus\n",
    "P_A_copas = 0.4\n",
    "P_B_paus = 0.3\n",
    "P_union_mutuamente_exclusivos = P_A_copas + P_B_paus\n",
    "println(\"Adição de Probabilidades (Eventos Mutuamente Exclusivos):\")\n",
    "println(\"P(A) = $P_A_copas, P(B) = $P_B_paus\")\n",
    "println(\"P(A ∪ B) = $P_union_mutuamente_exclusivos (soma das probabilidades)\\n\")"
   ]
  },
  {
   "cell_type": "markdown",
   "metadata": {},
   "source": [
    ">###### Adição de Probabilidades (Eventos Mutuamente Exclusivos)\n",
    "\n",
    "**Exemplo**: Se \n",
    "$P(A) = 0.4$ (obter uma carta de copas) e \n",
    "$P(B) = 0.3$ (obter uma carta de paus) em um baralho, como não podem ocorrer ao mesmo tempo, então:\n",
    "$P(A \\cup B) = P(A) + P(B) = 0.4 + 0.3 = 0.7$\n",
    "\n",
    "---"
   ]
  },
  {
   "cell_type": "code",
   "execution_count": 10,
   "metadata": {},
   "outputs": [
    {
     "name": "stdout",
     "output_type": "stream",
     "text": [
      "Multiplicação de Probabilidades (Eventos Independentes):\n",
      "P(A) = 0.16666666666666666, P(B) = 0.5\n",
      "P(A ∩ B) = 0.08333333333333333 (produto das probabilidades)\n",
      "\n"
     ]
    }
   ],
   "source": [
    "# Probabilidades de obter um 3 no dado e cara na moeda\n",
    "P_A_dado = 1/6\n",
    "P_B_moeda = 1/2\n",
    "P_A_and_B = P_A_dado * P_B_moeda\n",
    "println(\"Multiplicação de Probabilidades (Eventos Independentes):\")\n",
    "println(\"P(A) = $P_A_dado, P(B) = $P_B_moeda\")\n",
    "println(\"P(A ∩ B) = $P_A_and_B (produto das probabilidades)\\n\")"
   ]
  },
  {
   "cell_type": "markdown",
   "metadata": {},
   "source": [
    ">###### Multiplicação de Probabilidades (Eventos Independentes)\n",
    "\n",
    "**Exemplo**: Se um dado é lançado e uma moeda é lançada, a probabilidade de obter um 3 no dado e cara na moeda é:\n",
    "$P(A) = \\frac{1}{6} \\quad \\text{e} \\quad P(B) = \\frac{1}{2} \\Rightarrow P(A \\cap B) = P(A) \\cdot P(B) = \\frac{1}{6} \\cdot \\frac{1}{2} = \\frac{1}{12}$\n",
    "\n",
    "---"
   ]
  },
  {
   "cell_type": "code",
   "execution_count": 11,
   "metadata": {},
   "outputs": [
    {
     "name": "stdout",
     "output_type": "stream",
     "text": [
      "Teorema da Probabilidade Condicional:\n",
      "P(B) = 0.23076923076923078, P(A ∩ B) = 0.07692307692307693\n",
      "P(A | B) = 0.3333333333333333 (probabilidade de ser rei dado que é figura)\n"
     ]
    }
   ],
   "source": [
    "# Probabilidade de ser um rei dado que a carta é uma figura\n",
    "P_B_figura = 12/52\n",
    "P_A_and_B_king = 4/52\n",
    "P_A_given_B = P_A_and_B_king / P_B_figura\n",
    "println(\"Teorema da Probabilidade Condicional:\")\n",
    "println(\"P(B) = $P_B_figura, P(A ∩ B) = $P_A_and_B_king\")\n",
    "println(\"P(A | B) = $P_A_given_B (probabilidade de ser rei dado que é figura)\")"
   ]
  },
  {
   "cell_type": "markdown",
   "metadata": {},
   "source": [
    ">###### Teorema da Probabilidade Condicional\n",
    "\n",
    "**Exemplo**: Se temos um baralho e retiramos uma carta, a probabilidade de ser um rei (evento A) dado que a carta é uma figura (evento B) pode ser calculada com:\n",
    "$P(A|B) = \\frac{P(A \\cap B)}{P(B)}$\n",
    "Sabendo que há 12 figuras (valete, dama, rei) no baralho, \n",
    "$P(B) = \\frac{12}{52}$ e $P(A \\cap B) = \\frac{4}{52}$, então:\n",
    "$P(A|B) = \\frac{\\frac{4}{52}}{\\frac{12}{52}} = \\frac{4}{12} = \\frac{1}{3}$\n",
    "\n",
    "---"
   ]
  },
  {
   "cell_type": "markdown",
   "metadata": {},
   "source": [
    "Na teoria da probabilidade, o espaço amostral (também chamado de espaço de descrição amostral, espaço de possibilidades ou espaço de resultados) de um experimento ou teste aleatório é o conjunto de todos os resultados possíveis desse experimento. Um espaço amostral é geralmente denotado usando a notação de conjunto, e os resultados ordenados possíveis, ou pontos amostrais, são listados como elementos no conjunto. É comum referir-se a um espaço amostral pelos rótulos $S$, $Ω$ ou $U$ (para \"conjunto universal\"). Os elementos de um espaço amostral podem ser números, palavras, letras ou símbolos. Eles também podem ser finitos, contavelmente infinitos ou incontavelmente infinitos.\n",
    "\n",
    "Um subconjunto do espaço amostral é um evento, denotado por $E$. Se o resultado de um experimento estiver incluído em $E$, então o evento $E$ ocorreu.\n",
    "\n",
    "Por exemplo, se o experimento for jogar uma única moeda, o espaço amostral é o conjunto $\\{H, T\\}$, onde o resultado $H$ significa que a moeda caiu com cara e o resultado $T$ significa que a moeda caiu com coroa. Os eventos possíveis são $E = \\{\\}$, $E = \\{H\\}$, $E = \\{T\\}$ e $E = \\{H, T\\}$. Para jogar duas moedas, o espaço amostral é $\\{HH, HT, TH, TT\\}$, onde o resultado é $HH$ se ambas as moedas caírem com cara, $HT$ se a primeira moeda cair com cara e a segunda com coroa, $TH$ se a primeira moeda cair com coroa e a segunda com cara, e $TT$ se ambas as moedas caírem com coroa. O evento em que pelo menos uma das moedas é cara é dado por $E = \\{HH, HT, TH\\}$.\n",
    "\n",
    "Para jogar um único dado de seis lados uma vez, onde o resultado de interesse é o número de pontos voltados para cima, o espaço amostral é $\\{1, 2, 3, 4, 5, 6\\}$.\n",
    "\n",
    "Um espaço amostral bem definido e não vazio $S$ é um dos três componentes em um modelo probabilístico (um espaço de probabilidade). Os outros dois elementos básicos são um conjunto bem definido de eventos possíveis (um espaço de eventos), que é tipicamente o conjunto das partes de $S$ se $S$ é discreto ou uma σ-álgebra em $S$ se é contínuo, e uma probabilidade atribuída a cada evento (uma função de medida de probabilidade).\n",
    "\n",
    "Uma representação visual de um espaço amostral finito e eventos. O oval vermelho é o evento de que um número é ímpar, e o oval azul é o evento de que um número é primo. Um espaço amostral pode ser representado visualmente por um retângulo, com os resultados do espaço amostral denotados por pontos dentro do retângulo. Os eventos podem ser representados por ovais, onde os pontos contidos dentro do oval constituem o evento.\n"
   ]
  },
  {
   "cell_type": "markdown",
   "metadata": {},
   "source": [
    "### Condições de um espaço amostral\n",
    "\n",
    "Um conjunto $\\Omega$ com resultados $s_1, s_2, \\ldots, s_n$ (ou seja, $\\Omega = \\{s_1, s_2, \\ldots, s_n\\}$) deve atender a algumas **condições** para ser um **espaço amostral**:\n",
    "\n",
    "1. Os resultados devem ser `mutuamente exclusivos`, ou seja, se $s_j$ ocorre, então nenhum outro $s_i$ ocorrerá, $\\forall i,j=1,2,\\ldots,n \\quad i \\neq j$.\n",
    "\n",
    "2. Os resultados devem ser `coletivamente exaustivos`, ou seja, em cada experimento (ou teste aleatório), **sempre ocorrerá algum resultado** $s_i \\in \\Omega$ para $i \\in \\{1, 2, \\ldots, n\\}$.\n",
    "\n",
    "3. O espaço amostral ($\\Omega$) deve ter a `granularidade correta`, dependendo do que o experimentador está interessado. **Informações irrelevantes devem ser removidas do espaço amostral** e a abstração correta deve ser escolhida.\n",
    "\n",
    "Por exemplo, no teste de jogar uma moeda, um possível espaço amostral é $\\Omega_1 = \\{H, T\\}$, onde $H$ é o resultado em que a moeda cai com cara e $T$ é para coroa. Outro espaço amostral possível poderia ser $\\Omega_2 = \\{(H, R), (H, NR), (T, R), (T, NR)\\}$, onde $R$ denota um dia chuvoso e $NR$ é um dia em que não está chovendo. Para a maioria dos experimentos, $\\Omega_1$ seria uma escolha melhor do que $\\Omega_2$, pois um experimentador provavelmente não se importa com como o tempo afeta o lançamento da moeda.\n",
    "\n",
    "### Múltiplos espaços amostrais\n",
    "\n",
    "Para muitos experimentos, pode haver mais de um espaço amostral plausível disponível, dependendo do resultado que é de interesse para o experimentador. Por exemplo, ao tirar uma carta de um baralho padrão de cinquenta e duas cartas, uma possibilidade para o espaço amostral poderia ser as várias classificações (Ás até Rei), enquanto outra poderia ser os naipes (paus, copas, ouros ou espadas).\n",
    "\n",
    "Uma descrição mais completa dos resultados, no entanto, poderia especificar tanto a denominação quanto o naipe, e um espaço amostral descrevendo cada carta individual pode ser construído como o produto cartesiano dos dois espaços amostrais mencionados acima (esse espaço conteria cinquenta e duas saídas igualmente prováveis). Outros espaços amostrais são possíveis, como de pé ou de cabeça para baixo, se algumas cartas foram viradas ao embaralhar.\n"
   ]
  },
  {
   "cell_type": "markdown",
   "metadata": {},
   "source": [
    "### Resultados igualmente prováveis\n",
    "\n",
    "Virar uma moeda leva a um espaço amostral composto por dois resultados que são quase igualmente prováveis. \n",
    "\n",
    "![Um tachinha com a ponta para baixo](https://upload.wikimedia.org/wikipedia/commons/thumb/d/da/Brass_tack.png/240px-Brass_tack.png)  \n",
    "*Para cima ou para baixo? Virar uma tachinha leva a um espaço amostral composto por dois resultados que não são igualmente prováveis.*\n",
    "\n",
    "Alguns tratamentos de probabilidade **assumem que os vários resultados de um experimento são sempre definidos de modo a serem igualmente prováveis**. Para qualquer espaço amostral com $N$ resultados igualmente prováveis, cada resultado é atribuído a probabilidade $\\frac{1}{N}$. No entanto, **há experimentos que não são facilmente descritos por um espaço amostral de resultados igualmente prováveis** — *por exemplo, se alguém jogasse uma tachinha muitas vezes e observasse se ela cairia com a ponta para cima ou para baixo, não haveria simetria física que sugerisse que os dois resultados deveriam ser igualmente prováveis*.\n",
    "\n",
    "Embora a maioria dos fenômenos aleatórios não tenha resultados igualmente prováveis, pode ser útil definir um espaço amostral de tal forma que os resultados sejam pelo menos aproximadamente igualmente prováveis, já que essa condição simplifica significativamente o cálculo de probabilidades para eventos dentro do espaço amostral.\n",
    "\n",
    "Se cada resultado individual ocorrer com a mesma probabilidade, então a probabilidade de qualquer evento se torna simplesmente:\n",
    "\n",
    "## $\\mathrm{P}(\\text{evento}) = \\frac{\\text{número de resultados no evento}}{\\text{número de resultados no espaço amostral}}$\n",
    "\n",
    "Por exemplo, se dois dados justos de seis lados forem lançados para gerar dois inteiros uniformemente distribuídos, $D_1$ e $D_2$, cada um na faixa de 1 a 6, inclusivo, os $36$ pares ordenados possíveis de resultados $(D_1, D_2)$ constituem um espaço amostral de eventos igualmente prováveis.\n",
    "\n",
    "Nesse caso, a fórmula acima se aplica, como ao calcular a probabilidade de uma soma particular dos dois lançamentos em um resultado. A probabilidade do evento em que a soma $D_1 + D_2$ é igual a cinco é $\\frac{4}{36}$, pois quatro dos trinta e seis pares igualmente prováveis de resultados somam cinco.\n",
    "\n",
    "Se o espaço amostral fosse todas as possíveis somas obtidas ao lançar dois dados de seis lados, a fórmula acima ainda poderia ser aplicada porque os lançamentos dos dados são justos, mas o número de resultados em um determinado evento varia. Uma soma de dois pode ocorrer com o resultado $\\{(1,1)\\}$, então a probabilidade é $\\frac{1}{36}$. Para uma soma de sete, os resultados no evento são $\\{(1,6), (6,1), (2,5), (5,2), (3,4), (4,3)\\}$, então a probabilidade é $\\frac{6}{36}$.\n",
    "\n",
    "### Amostra aleatória simples\n",
    "\n",
    "Na estatística, inferências são feitas sobre características de uma população estudando uma amostra dos indivíduos dessa população. Para chegar a uma amostra que apresente uma estimativa imparcial das verdadeiras características da população, os estatísticos muitas vezes buscam estudar uma amostra aleatória simples — ou seja, uma amostra na qual cada indivíduo da população tem a mesma probabilidade de ser incluído. O resultado disso é que cada combinação possível de indivíduos que poderia ser escolhida para a amostra tem uma chance igual de ser a amostra selecionada (ou seja, o espaço de amostras aleatórias simples de um determinado tamanho de uma dada população é composto por resultados igualmente prováveis).\n",
    "\n",
    "---\n"
   ]
  },
  {
   "cell_type": "markdown",
   "metadata": {},
   "source": [
    "> ## Questões\n",
    "\n",
    "1. ❓Programas de computador são classificados pelo comprimento do código-fonte e pelo tempo de execução. Programas com mais de **150** linhas são classificados como **grandes (G)** e programas com um número **menor** ou **igual** a **150** linhas são chamados **pequenos (P)**. Programas **rápidos (R)** executam em menos de **0.1 segundos**, enquanto que programas **lentos (L)** demoram pelo menos **0.1 segundos** para serem executados. Suponha que foi monitorada a execução de um programa, observando o comprimento do código e o tempo de execução. O modelo de probabilidades para esse experimento contém as seguintes informações: $Pr[PR] = 0.5$, $Pr[GR] = 0.2$ e $Pr[GL] = 0.2$.\n",
    "\n",
    "> Qual é o espaço amostral desse experimento? Calcule as seguintes probabilidades:\n",
    ">> a) $Pr[L]$\n",
    ">>\n",
    ">> b) $Pr[G]$\n",
    ">>\n",
    ">> c) $Pr[L ∪ G]$\n",
    "\n",
    "> ###### Resolução do Problema\n",
    "\n",
    "#### 📌 **Passo 1**: Definir o espaço amostral\n",
    "O espaço amostral é o conjunto de todos os possíveis resultados do experimento. Nesse caso, estamos considerando os seguintes eventos com base no comprimento do programa e no tempo de execução:\n",
    "\n",
    "- **P**: Programas pequenos (número de linhas **≤ 150**)\n",
    "- **G**: Programas grandes (número de linhas **> 150**)\n",
    "- **R**: Programas rápidos (tempo de execução **< 0.1** segundos)\n",
    "- **L**: Programas lentos (tempo de execução **≥ 0.1** segundos)\n",
    "\n",
    "Como estamos considerando combinações desses eventos, o espaço amostral é:\n",
    "$\\{PR, PL, GR, GL\\}$\n",
    "\n",
    "#### 📌 **Passo 2**: Calcular as probabilidades solicitadas\n",
    "\n",
    "##### (a) $Pr[L]$ — Probabilidade de o programa ser lento\n",
    "Sabemos que a probabilidade total de um programa ser lento ($L$) é a soma das probabilidades de ele ser pequeno e lento ($PL$) ou grande e lento ($GL$):\n",
    "$Pr[L] = Pr[PL] + Pr[GL]$\n",
    "\n",
    "Sabemos que:\n",
    "- $Pr[PR] = 0.5$\n",
    "- $Pr[GR] = 0.2$\n",
    "- $Pr[GL] = 0.2$\n",
    "\n",
    "Como a soma das probabilidades deve ser 1, podemos calcular $Pr[PL]$ da seguinte forma:\n",
    "$Pr[PL] = 1 - (Pr[PR] + Pr[GR] + Pr[GL]) = 1 - (0.5 + 0.2 + 0.2) = 0.1$\n",
    "\n",
    "Agora podemos calcular $Pr[L]$:\n",
    "$Pr[L] = Pr[PL] + Pr[GL] = 0.1 + 0.2 = 0.3$\n",
    "\n",
    "##### (b) $Pr[G]$ — Probabilidade de o programa ser grande\n",
    "A probabilidade total de um programa ser grande ($G$) é a soma das probabilidades de ele ser grande e rápido ($GR$) ou grande e lento ($GL$):\n",
    "$Pr[G] = Pr[GR] + Pr[GL] = 0.2 + 0.2 = 0.4$\n",
    "\n",
    "##### (c) $Pr[L \\cup G]$ — Probabilidade de o programa ser lento ou grande\n",
    "Usamos a fórmula da probabilidade de união de dois eventos:\n",
    "$Pr[L \\cup G] = Pr[L] + Pr[G] - Pr[L \\cap G]$\n",
    "\n",
    "Sabemos que:\n",
    "- $Pr[L] = 0.3$\n",
    "- $Pr[G] = 0.4$\n",
    "- $Pr[L \\cap G] = Pr[GL] = 0.2$\n",
    "\n",
    "Portanto:\n",
    "$Pr[L \\cup G] = 0.3 + 0.4 - 0.2 = 0.5$\n",
    "\n",
    "### Resumo das respostas\n",
    "- (a) $Pr[L] = 0.3$\n",
    "- (b) $Pr[G] = 0.4$\n",
    "- (c) $Pr[L \\cup G] = 0.5$\n",
    "\n",
    "---"
   ]
  },
  {
   "cell_type": "markdown",
   "metadata": {},
   "source": [
    "2. ❓ Suponha que em uma fábrica de eletrônicos sejam produzidos três tipos de produtos: celulares $C$, tablets $T$ e laptops $L$. A fábrica produz $40$% de celulares, $35$% de tablets e $25$% de laptops. Além disso, sabe-se que $70$% dos celulares são vendidos dentro do primeiro mês de fabricação, enquanto 60% dos tablets e $50$% dos laptops são vendidos nesse mesmo período.\n",
    "\n",
    ">Calcule as seguintes probabilidades:\n",
    ">>a) $Pr[V]$ — Probabilidade de um produto ser vendido no primeiro mês.\n",
    ">>\n",
    ">>b) $Pr[C]$ — Probabilidade de o produto ser um celular.\n",
    ">>\n",
    ">>c) $Pr[V∪T]$ — Probabilidade de o produto ser vendido no primeiro mês ou ser um tablet.\n",
    "\n",
    "###### Resolução do Problema\n",
    "\n",
    "#### 📌 **Passo 1**: Definir o espaço amostral\n",
    "O espaço amostral é composto pelos tipos de produtos e se eles são vendidos ou não no primeiro mês. Vamos definir os eventos:\n",
    "\n",
    "- **C**: Celulares\n",
    "- **T**: Tablets\n",
    "- **L**: Laptops\n",
    "- **V**: Vendido no primeiro mês\n",
    "- **N**: Não vendido no primeiro mês\n",
    "\n",
    "O espaço amostral é então:\n",
    "$\\{CV, CN, TV, TN, LV, LN\\}$\n",
    "\n",
    "#### 📌 **Passo 2**: Calcular as probabilidades solicitadas\n",
    "\n",
    "##### (a) $Pr[V]$ — Probabilidade de um produto ser vendido no primeiro mês\n",
    "A probabilidade total de um produto ser vendido ($V$) é a soma das probabilidades de cada produto ser vendido:\n",
    "$Pr[V] = Pr[CV] + Pr[TV] + Pr[LV]$\n",
    "\n",
    "Dados:\n",
    "- $Pr[C] = 0.4$ e $Pr[CV|C] = 0.7$ ⟶ $Pr[CV] = Pr[C] \\cdot Pr[CV|C] = 0.4 \\cdot 0.7 = 0.28$\n",
    "- $Pr[T] = 0.35$ e $Pr[TV|T] = 0.6$ ⟶ $Pr[TV] = Pr[T] \\cdot Pr[TV|T] = 0.35 \\cdot 0.6 = 0.21$\n",
    "- $Pr[L] = 0.25$ e $Pr[LV|L] = 0.5$ ⟶ $Pr[LV] = Pr[L] \\cdot Pr[LV|L] = 0.25 \\cdot 0.5 = 0.125$\n",
    "\n",
    "Portanto:\n",
    "$Pr[V] = 0.28 + 0.21 + 0.125 = 0.615$\n",
    "\n",
    "##### (b) $Pr[C]$ — Probabilidade de o produto ser um celular\n",
    "Essa informação já foi fornecida na descrição:\n",
    "$Pr[C] = 0.4$\n",
    "\n",
    "##### (c) $Pr[V \\cup T]$ — Probabilidade de o produto ser vendido no primeiro mês ou ser um tablet\n",
    "Usamos a fórmula da probabilidade de união de dois eventos:\n",
    "$Pr[V \\cup T] = Pr[V] + Pr[T] - Pr[V \\cap T]$\n",
    "\n",
    "Sabemos que:\n",
    "- $Pr[V] = 0.615$\n",
    "- $Pr[T] = 0.35$\n",
    "- $Pr[V \\cap T] = Pr[TV] = 0.21$\n",
    "\n",
    "Portanto:\n",
    "$Pr[V \\cup T] = 0.615 + 0.35 - 0.21 = 0.755$\n",
    "\n",
    "### Resumo das respostas\n",
    "- (a) $Pr[V] = 0.615$\n",
    "- (b) $Pr[C] = 0.4$\n",
    "- (c) $Pr[V \\cup T] = 0.755$\n"
   ]
  }
 ],
 "metadata": {
  "kernelspec": {
   "display_name": "Julia 1.10.4",
   "language": "julia",
   "name": "julia-1.10"
  },
  "language_info": {
   "file_extension": ".jl",
   "mimetype": "application/julia",
   "name": "julia",
   "version": "1.10.4"
  }
 },
 "nbformat": 4,
 "nbformat_minor": 2
}
